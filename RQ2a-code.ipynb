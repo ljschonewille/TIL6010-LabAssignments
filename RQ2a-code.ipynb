{
 "cells": [
  {
   "cell_type": "markdown",
   "metadata": {},
   "source": [
    "# Sub question 2\n",
    "\n",
    "*?*"
   ]
  },
  {
   "cell_type": "markdown",
   "metadata": {},
   "source": [
    "Electric car sales per year"
   ]
  },
  {
   "cell_type": "code",
   "execution_count": null,
   "metadata": {},
   "outputs": [],
   "source": [
    "# Import helpfull packages\n",
    "\n",
    "import pandas as pd\n",
    "import seaborn as sns\n",
    "import plotly.express as px\n",
    "import matplotlib.pyplot as plt\n",
    "import plotly.io as pio\n",
    "pio.renderers.default = 'plotly_mimetype+notebook'"
   ]
  },
  {
   "cell_type": "code",
   "execution_count": null,
   "metadata": {},
   "outputs": [],
   "source": [
    "# Import data\n",
    "\n",
    "df_cars = pd.read_csv('IEA-EV-dataEV salesHistoricalCars.csv')                                                      # Read csv file\n",
    "\n",
    "df_cars_sales = df_cars[(df_cars['parameter'] == 'EV sales')]                                                       # Only look at EV sales values\n",
    "df_cars_ev = df_cars_sales.drop(df_cars_sales[df_cars_sales['powertrain'] == 'FCEV'].index)                         # Drop the Fuel cell values\n",
    "df_cars_group = df_cars_ev.groupby(['region', 'year'])['value'].sum()   \t                                        # Group the dataframe by region and year to sum the values of the fully electric and hybrid for each year in each region\n",
    "df_cars_values = df_cars_group.to_frame(name = 'value').reset_index()                                               # Make a dataframe of the groupby\n",
    "\n",
    "df_cars_data = df_cars_values.drop(df_cars_values[(df_cars_values['region'] == 'EU27') |                            # Drop EU27, Europe, Rest of the world and World from the region values\n",
    "                                                  (df_cars_values['region'] == 'Europe') | \n",
    "                                                  (df_cars_values['region'] == 'Rest of the world') |\n",
    "                                                  (df_cars_values['region'] == 'World')].index)\n"
   ]
  },
  {
   "cell_type": "code",
   "execution_count": null,
   "metadata": {},
   "outputs": [],
   "source": [
    "# Create a complete grid of all year-region combinations\n",
    "\n",
    "years = pd.Series(range(2010, 2024))                                                                                # Years from 2010 to 2023\n",
    "regions = df_cars_data['region'].unique()                                                                           # Unique regions in your data\n",
    "\n",
    "df_full = pd.MultiIndex.from_product([years, regions], names=['year', 'region']).to_frame(index=False)              # Make new dataframe\n",
    "df_cars_data_filled = pd.merge(df_full, df_cars_data, on=['year', 'region'], how='left')                            # Merge the complete grid with your original dataset\n",
    "df_cars_data_filled['value'] = df_cars_data_filled['value'].fillna(0)                                               # Fill missing values in 'value' column with 0\n"
   ]
  },
  {
   "cell_type": "code",
   "execution_count": null,
   "metadata": {},
   "outputs": [],
   "source": [
    "# Create figure\n",
    "\n",
    "df_cars_data_sorted = df_cars_data_filled.sort_values(by=['year', 'value'], ascending=[True, True])                 # Sort the dataframe to get an ascending figure\n",
    "\n",
    "figure_cars = px.histogram(df_cars_data_sorted, x='value', y='region',                                              # Plot figure\n",
    "                           animation_frame='year', animation_group='region',\n",
    "                           color='region', range_x=[0,9000000],\n",
    "                           text_auto='0.2s',title=\"Electric car sales per year\", \n",
    "                           labels = {'region':'Countries'})\n",
    "\n",
    "figure_cars.update_layout(yaxis={'categoryorder': 'total ascending'}, \n",
    "                          height=1000, xaxis_title = \"Sales per year\", \n",
    "                          yaxis_title = 'Country')\n",
    "figure_cars.update_traces(textposition='outside')\n",
    "figure_cars.show()"
   ]
  },
  {
   "cell_type": "code",
   "execution_count": null,
   "metadata": {},
   "outputs": [],
   "source": [
    "\n",
    "# Percentage of electric car sales per year\n",
    "\n",
    "total_car_sales_per_year = df_cars_data_filled.groupby('year')['value'].sum().reset_index()                         # Calculate total sales for cars per year\n",
    "total_car_sales_per_year.columns = ['year', 'total_values']                                                         # Only look at year and total car sales per year to make %\n",
    "df_cars_total_per_year = pd.merge(df_cars_data_filled, total_car_sales_per_year, on='year')                         # Merge total sales back into original dataframe\n",
    "\n",
    "df_cars_total_per_year['percentage_of_total_sales'] = (df_cars_total_per_year['value'] / df_cars_total_per_year['total_values']) * 100          # Calculate the percentage of each country's sales relative to the total for that year\n",
    "\n",
    "figure_cars_perc = px.histogram(df_cars_total_per_year, x='percentage_of_total_sales',                                   # Plot figure \n",
    "                           y='region', animation_frame='year', animation_group='region',\n",
    "                           color='region', range_x=[0,100], \n",
    "                           title=\"Percentage of electric car sales per year\", \n",
    "                           labels = {'region':'Countries'})\n",
    "\n",
    "figure_cars_perc.update_layout(yaxis={'categoryorder': 'total ascending'}, \n",
    "                          height=1000, xaxis_title = \"Percentage of sales per year\", \n",
    "                          yaxis_title = 'Country')\n",
    "figure_cars_perc.update_traces(textposition='outside', texttemplate='%{x:.2f}%')\n",
    "figure_cars_perc.show()"
   ]
  },
  {
   "cell_type": "code",
   "execution_count": null,
   "metadata": {},
   "outputs": [],
   "source": [
    "\n",
    "# Sum of electric car sales per year\n",
    "\n",
    "df_car_sum_values_by_year = df_cars_data_filled.sort_values(by=['region', 'year'])                                          # Sort values                              \n",
    "df_car_sum_values_by_year['cumulative_sales'] = df_car_sum_values_by_year.groupby('region')['value'].cumsum()               # Make new column with cumulative car sales per year\n",
    "\n",
    "df_cars_sum_sorted = df_car_sum_values_by_year.sort_values(by=['year', 'cumulative_sales'], ascending=[True, True])         # Sort dataframe by values to make a ascending figure\n",
    "\n",
    "figure_cars_sum = px.histogram(df_cars_sum_sorted, x='cumulative_sales', y='region',                                              # Plot figure\n",
    "                           animation_frame='year', animation_group='region',\n",
    "                           color='region', range_x=[0,25000000],\n",
    "                           text_auto='0.2s',title=\"Sum of electric car sales per year\", \n",
    "                           labels = {'region':'Countries'})\n",
    "\n",
    "figure_cars_sum.update_layout(yaxis={'categoryorder': 'total ascending'}, \n",
    "                              height=1000, xaxis_title = \"Sum sales per year\", \n",
    "                              yaxis_title = 'Country')\n",
    "figure_cars_sum.update_traces(textposition='outside')\n",
    "figure_cars_sum.show()"
   ]
  },
  {
   "cell_type": "code",
   "execution_count": null,
   "metadata": {},
   "outputs": [],
   "source": []
  },
  {
   "cell_type": "markdown",
   "metadata": {},
   "source": [
    "Electric Truck sales per year"
   ]
  },
  {
   "cell_type": "code",
   "execution_count": null,
   "metadata": {},
   "outputs": [],
   "source": [
    "# The same, but for trucks\n",
    "\n",
    "df_trucks = pd.read_csv('IEA-EV-dataEV salesHistoricalTrucks.csv')                                                      # Read csv file\n",
    "\n",
    "df_trucks_sales = df_trucks[(df_trucks['parameter'] == 'EV sales')]                                                     # Only look at EV sales values\n",
    "df_trucks_ev = df_trucks_sales.drop(df_trucks_sales[df_trucks_sales['powertrain'] == 'FCEV'].index)                     # Drop the Fuel cell values\n",
    "df_trucks_group = df_trucks_ev.groupby(['region', 'year'])['value'].sum()                                               # Group the dataframe by region and year to sum the values of the fully electric and hybrid for each year in each region\n",
    "df_trucks_values = df_trucks_group.to_frame(name = 'value').reset_index()                                               # Make a dataframe of the groupby\n",
    "df_trucks_data = df_trucks_values.drop(df_trucks_values[(df_trucks_values['region'] == 'EU27') |                        # Drop EU27, Europe, Rest of the world and World from the region values\n",
    "                                                  (df_trucks_values['region'] == 'Europe') |\n",
    "                                                  (df_trucks_values['region'] == 'Rest of the world') | \n",
    "                                                  (df_trucks_values['region'] == 'World')].index)\n",
    "                                          \n",
    "\n",
    "regions_trucks = df_trucks_data['region'].unique()                                                                      # Unique regions in your data\n",
    "df_full_trucks = pd.MultiIndex.from_product([years, regions_trucks], names=['year', 'region']).to_frame(index=False)    # Make new dataframe\n",
    "df_trucks_data_filled = pd.merge(df_full_trucks, df_trucks_data, on=['year', 'region'], how='left')                     # Merge the complete grid with your original dataset\n",
    "df_trucks_data_filled['value'] = df_trucks_data_filled['value'].fillna(0)                                               # Fill missing values in 'value' column with 0\n",
    "\n",
    "df_trucks_data_sorted = df_trucks_data_filled.sort_values(by=['year', 'value'], ascending=[True, True])                 # Sort the dataframe to get an ascending figure    \n",
    "\n",
    "figure_trucks = px.histogram(df_trucks_data_sorted, x='value', y='region',                                              # Plot figure\n",
    "                           animation_frame='year', animation_group='region',\n",
    "                           color='region', range_x=[0,75000],\n",
    "                           text_auto='0.2s',title=\"Electric truck sales per year\", labels = {'region':'Countries'})\n",
    "\n",
    "figure_trucks.update_layout(yaxis={'categoryorder':'total ascending'}, height = 500, xaxis_title = \"Sales per year\", yaxis_title = 'Country')\n",
    "figure_trucks.update_traces(textposition='outside')\n",
    "\n",
    "figure_trucks.show()"
   ]
  },
  {
   "cell_type": "code",
   "execution_count": null,
   "metadata": {},
   "outputs": [],
   "source": [
    "\n",
    "# Percentage of electric truck sales per year\n",
    "\n",
    "total_sales_per_year = df_trucks_data_filled.groupby('year')['value'].sum().reset_index()                                       # Calculate total sales for trucks per year                     \n",
    "total_sales_per_year.columns = ['year', 'total_values']                                                                         # Only look at year and total truck sales per year to make %\n",
    "df_trucks_total_per_year = pd.merge(df_trucks_data_filled, total_sales_per_year, on='year')                                     # Merge total sales back into original dataframe\n",
    "\n",
    "df_trucks_total_per_year['percentage_of_total_sales'] = (df_trucks_total_per_year['value'] / df_trucks_total_per_year['total_values']) * 100            # Calculate the percentage of each country's sales relative to the total for that year\n",
    "\n",
    "figure_trucks_perc = px.histogram(df_trucks_total_per_year, x='percentage_of_total_sales', y='region',                                         # Plot figure\n",
    "                           animation_frame='year', animation_group='region',\n",
    "                           color='region', range_x=[0,110], \n",
    "                           title=\"Percentage of electric car sales per year\", \n",
    "                           labels = {'region':'Countries'})\n",
    "\n",
    "figure_trucks_perc.update_layout(yaxis={'categoryorder': 'total ascending'}, \n",
    "                                 height=500, xaxis_title = \"Percentage of sales per year\", \n",
    "                                 yaxis_title = 'Country')\n",
    "figure_trucks_perc.update_traces(textposition='outside', texttemplate='%{x:.2f}%')\n",
    "figure_trucks_perc.show()"
   ]
  },
  {
   "cell_type": "code",
   "execution_count": null,
   "metadata": {},
   "outputs": [],
   "source": [
    "\n",
    "# Sum of electric truck sales per year\n",
    "\n",
    "df_trucks_sum_values_by_year = df_trucks_data_filled.sort_values(by=['region', 'year'])                                             # Sort values\n",
    "df_trucks_sum_values_by_year['cumulative_sales'] = df_trucks_sum_values_by_year.groupby('region')['value'].cumsum()                 # Make new column with cumulative car sales per year\n",
    "\n",
    "df_trucks_sum_sorted = df_trucks_sum_values_by_year.sort_values(by=['year', 'cumulative_sales'], ascending=[True, True])            # Sort dataframe by values to make a ascending figure\n",
    "\n",
    "figure_trucks_sum = px.histogram(df_trucks_sum_sorted, x='cumulative_sales', y='region',                                            # Plot figure\n",
    "                           animation_frame='year', animation_group='region',\n",
    "                           color='region', range_x=[0,350000],\n",
    "                           text_auto='0.2s',title=\"Sum of electric truck sales per year\", \n",
    "                           labels = {'region':'Countries'})\n",
    "\n",
    "figure_trucks_sum.update_layout(yaxis={'categoryorder': 'total ascending'},\n",
    "                                height = 500, xaxis_title = \"Sum sales per year\", \n",
    "                                yaxis_title = 'Country')\n",
    "figure_trucks_sum.update_traces(textposition='outside')\n",
    "figure_trucks_sum.show()"
   ]
  }
 ],
 "metadata": {
  "language_info": {
   "name": "python"
  }
 },
 "nbformat": 4,
 "nbformat_minor": 2
}
