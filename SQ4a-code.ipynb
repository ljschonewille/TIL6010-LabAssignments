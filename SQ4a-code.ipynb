{
 "cells": [
  {
   "cell_type": "markdown",
   "metadata": {},
   "source": [
    "# Sub question 4a\n",
    "\n",
    "*Which four countries have the highest electric car and truck sales relative to Gross Domestic Product (GDP), and how have sales trends in these countries developed between 2010 and 2022?*"
   ]
  },
  {
   "cell_type": "markdown",
   "metadata": {},
   "source": [
    "Electric car/GDP sales per year"
   ]
  },
  {
   "cell_type": "code",
   "execution_count": 10,
   "metadata": {},
   "outputs": [],
   "source": [
    "# Import helpfull packages\n",
    "\n",
    "import pandas as pd\n",
    "import seaborn as sns\n",
    "import plotly.express as px\n",
    "import matplotlib.pyplot as plt\n",
    "import plotly.io as pio\n",
    "pio.renderers.default = 'plotly_mimetype+notebook'"
   ]
  },
  {
   "cell_type": "code",
   "execution_count": 11,
   "metadata": {},
   "outputs": [],
   "source": [
    "# Import data from RQ2a\n",
    "# Car data\n",
    "\n",
    "df_cars = pd.read_csv('IEA-EV-dataEV salesHistoricalCars.csv')                                                      # Read csv file\n",
    "\n",
    "df_cars_sales = df_cars[(df_cars['parameter'] == 'EV sales')]                                                       # Only look at EV sales values\n",
    "df_cars_ev = df_cars_sales.drop(df_cars_sales[df_cars_sales['powertrain'] == 'FCEV'].index)                         # Drop the Fuel cell values\n",
    "df_cars_group = df_cars_ev.groupby(['region', 'year'])['value'].sum()   \t                                        # Group the dataframe by region and year to sum the values of the fully electric and hybrid for each year in each region\n",
    "df_cars_values = df_cars_group.to_frame(name = 'value').reset_index()                                               # Make a dataframe of the groupby\n",
    "\n",
    "df_cars_data = df_cars_values.drop(df_cars_values[(df_cars_values['region'] == 'EU27') |                            # Drop EU27, Europe, Rest of the world and World from the region values\n",
    "                                                  (df_cars_values['region'] == 'Europe') | \n",
    "                                                  (df_cars_values['region'] == 'Rest of the world') |\n",
    "                                                  (df_cars_values['region'] == 'World')].index)\n",
    "\n",
    "years = pd.Series(range(2010, 2023))                                                                                # Years from 2010 to 2022\n",
    "regions = df_cars_data['region'].unique()                                                                           # Unique regions in your data\n",
    "\n",
    "df_full = pd.MultiIndex.from_product([years, regions], names=['year', 'region']).to_frame(index=False)              # Make new dataframe\n",
    "df_cars_data_filled = pd.merge(df_full, df_cars_data, on=['year', 'region'], how='left')                            # Merge the complete grid with your original dataset\n",
    "df_cars_data_filled['value'] = df_cars_data_filled['value'].fillna(0) \n",
    "\n",
    "# Truck data\n",
    "\n",
    "df_trucks = pd.read_csv('IEA-EV-dataEV salesHistoricalTrucks.csv')                                                      # Read csv file\n",
    "\n",
    "df_trucks_sales = df_trucks[(df_trucks['parameter'] == 'EV sales')]                                                     # Only look at EV sales values\n",
    "df_trucks_ev = df_trucks_sales.drop(df_trucks_sales[df_trucks_sales['powertrain'] == 'FCEV'].index)                     # Drop the Fuel cell values\n",
    "df_trucks_group = df_trucks_ev.groupby(['region', 'year'])['value'].sum()                                               # Group the dataframe by region and year to sum the values of the fully electric and hybrid for each year in each region\n",
    "df_trucks_values = df_trucks_group.to_frame(name = 'value').reset_index()                                               # Make a dataframe of the groupby\n",
    "df_trucks_data = df_trucks_values.drop(df_trucks_values[(df_trucks_values['region'] == 'EU27') |                        # Drop EU27, Europe, Rest of the world and World from the region values\n",
    "                                                  (df_trucks_values['region'] == 'Europe') |\n",
    "                                                  (df_trucks_values['region'] == 'Rest of the world') | \n",
    "                                                  (df_trucks_values['region'] == 'World')].index)\n",
    "                                          \n",
    "\n",
    "regions_trucks = df_trucks_data['region'].unique()                                                                      # Unique regions in your data\n",
    "df_full_trucks = pd.MultiIndex.from_product([years, regions_trucks], names=['year', 'region']).to_frame(index=False)    # Make new dataframe\n",
    "df_trucks_data_filled = pd.merge(df_full_trucks, df_trucks_data, on=['year', 'region'], how='left')                     # Merge the complete grid with your original dataset\n",
    "df_trucks_data_filled['value'] = df_trucks_data_filled['value'].fillna(0)   "
   ]
  },
  {
   "cell_type": "code",
   "execution_count": 12,
   "metadata": {},
   "outputs": [],
   "source": [
    "\n",
    "# Import data GDP\n",
    "\n",
    "df_gdp = pd.read_csv('national-gdp-constant-usd-wb.csv')                                                        # Import csv file: GDP\n",
    "\n",
    "# Make a usable dataframe for GDP use\n",
    "\n",
    "df_gdp_years = df_gdp.drop(df_gdp[df_gdp['Year'] < 2010].index)                                                 # Remove all years below 2010\n",
    "df_new_gdp = df_gdp_years.copy()                                                                                # Make a copy of the area_years dataframe\n",
    "df_new_gdp['Entity'] = df_new_gdp['Entity'].replace({'United States': 'USA', 'Czechia': 'Czech Republic',       # Replace names of countries that are different in both csv files to make them equal\n",
    "                                                       'South Korea': 'Korea', 'Turkey': 'Turkiye'})      \n",
    "\n"
   ]
  },
  {
   "cell_type": "markdown",
   "metadata": {},
   "source": [
    "Car/GDP sales per year"
   ]
  },
  {
   "cell_type": "code",
   "execution_count": null,
   "metadata": {},
   "outputs": [],
   "source": [
    "# Car/GDP per year\n",
    "\n",
    "car_countries = df_cars_data['region'].unique()                                 # Select all unique countries in dataframe\n",
    "df_gdp_y_car = df_new_gdp[df_new_gdp['Entity'].isin(car_countries)]             # Compare the gdp dataframe with the car countries dataframe\n",
    "\n",
    "df_cars_gdp_merged = pd.merge(df_cars_data_filled, df_gdp_y_car, left_on=['region', 'year'], right_on=['Entity', 'Year'])                       # Merge new made dataframe with dataframe used in Subquestion 2\n",
    "df_cars_gdp_merged['cars_per_gdp'] = df_cars_gdp_merged['value'] / df_cars_gdp_merged['GDP (constant 2015 US$)']           # Perform the division and create a new column for the result\n",
    "\n",
    "df_cars_gdp_merged_sorted = df_cars_gdp_merged.sort_values(by=['year', 'cars_per_gdp'], ascending=[True, True])                                      # Sort the dataframe to get an ascending figure                                        \n",
    "\n",
    "figure_cars_gdp = px.histogram(df_cars_gdp_merged_sorted, x='cars_per_gdp', y='region',                                                   # Plot figure\n",
    "                           animation_frame='year', animation_group='region',\n",
    "                           color='region', range_x=[0,0.0000006], title=\"Electric car sales per GDP per year\",\n",
    "                           text_auto='0.2s')\n",
    "figure_cars_gdp.update_layout(yaxis={'categoryorder': 'total ascending'}, \n",
    "                                     xaxis_title = \"Sales per GDP per year\", \n",
    "                                     yaxis_title = 'Country', height=1000)\n",
    "figure_cars_gdp.update_traces(textposition='outside')\n",
    "figure_cars_gdp.show()\n"
   ]
  },
  {
   "cell_type": "code",
   "execution_count": null,
   "metadata": {},
   "outputs": [],
   "source": [
    "# Percentage of electric car sales per GDP per year\n",
    "\n",
    "total_sales_cars_per_year_gdp = df_cars_gdp_merged.groupby('year')['cars_per_gdp'].sum().reset_index()                # Calculate the total electric car sales for each year\n",
    "total_sales_cars_per_year_gdp.columns = ['year', 'total_cars_per_gdp']                                            # Only look at year and total car sales per year to make %\n",
    "df_cars_total_per_year_gdp = pd.merge(df_cars_gdp_merged, total_sales_cars_per_year_gdp, on='year')                   # Merge the total sales back into the original dataframe\n",
    "\n",
    "df_cars_total_per_year_gdp['percentage_of_total_sales'] = (df_cars_total_per_year_gdp['cars_per_gdp'] / df_cars_total_per_year_gdp['total_cars_per_gdp']) * 100              # Calculate the percentage of each country's sales relative to the total for that year\n",
    "\n",
    "figure_cars_i_perc = px.histogram(df_cars_total_per_year_gdp, x='percentage_of_total_sales', y='region',                                              # Plot figure\n",
    "                           animation_frame='year', animation_group='region',\n",
    "                           color='region', range_x=[0,110], title=\"Percentage of electric car sales per GDP per year\", \n",
    "                           labels = {'region':'Countries'})\n",
    "\n",
    "figure_cars_i_perc.update_layout(yaxis={'categoryorder': 'total ascending'}, height=1000, xaxis_title = \"Percentage of sales per GDP per year\", yaxis_title = 'Country')\n",
    "figure_cars_i_perc.update_traces(textposition='outside', texttemplate='%{x:.2f}%')\n",
    "figure_cars_i_perc.show()\n"
   ]
  },
  {
   "cell_type": "code",
   "execution_count": null,
   "metadata": {},
   "outputs": [],
   "source": [
    "# Sum of electric car sales per gdp per year\n",
    "\n",
    "df_car_sum_values_by_year_gdp = df_cars_gdp_merged.sort_values(by=['region', 'year'])                                                           # Sort values\n",
    "df_car_sum_values_by_year_gdp['cumulative_sales_gdp'] = df_car_sum_values_by_year_gdp.groupby('region')['cars_per_gdp'].cumsum()                # Make new column with cumulative car/gdp sales per year\n",
    "\n",
    "df_cars_sum_sorted_gdp = df_car_sum_values_by_year_gdp.sort_values(by=['year', 'cumulative_sales_gdp'], ascending=[True, True])                 # Sort dataframe by values to make a ascending figure\n",
    "\n",
    "figure_cars_gdp_sum = px.histogram(df_cars_sum_sorted_gdp, x='cumulative_sales_gdp', y='region',                                                # Plot figure\n",
    "                           animation_frame='year', animation_group='region',\n",
    "                           color='region', range_x=[0,0.000002],\n",
    "                           text_auto='0.2s',title=\"Sum of electric car sales per GDP per year\")\n",
    "\n",
    "figure_cars_gdp_sum.update_layout(yaxis={'categoryorder': 'total ascending'}, \n",
    "                                height=1000, xaxis_title = \"Sum sales per GDP per year\", \n",
    "                                yaxis_title = 'Country')\n",
    "figure_cars_gdp_sum.update_traces(textposition='outside')\n",
    "figure_cars_gdp_sum.show()"
   ]
  },
  {
   "cell_type": "markdown",
   "metadata": {},
   "source": [
    "Electric Truck/GDP sales per year"
   ]
  },
  {
   "cell_type": "code",
   "execution_count": null,
   "metadata": {},
   "outputs": [],
   "source": [
    "# Truck/GDP per year\n",
    "\n",
    "trucks_countries = df_trucks_data['region'].unique()                                        # Select all unique countries in dataframe\n",
    "df_gdp_y_trucks = df_new_gdp[df_new_gdp['Entity'].isin(trucks_countries)]                   # Compare the gdp dataframe with the truck countries dataframe\n",
    "\n",
    "df_trucks_gdp_merged = pd.merge(df_trucks_data_filled, df_gdp_y_trucks, left_on=['region', 'year'], right_on=['Entity', 'Year'])                        # Merge new made dataframe with dataframe used in Subquestion 2\n",
    "df_trucks_gdp_merged['trucks_per_gdp'] = df_trucks_gdp_merged['value'] / df_trucks_gdp_merged['GDP (constant 2015 US$)']                                # Perform the division and create a new column for the result\n",
    "\n",
    "df_trucks_merged_sorted = df_trucks_gdp_merged.sort_values(by=['year', 'trucks_per_gdp'], ascending=[True, True])                                       # Sort the dataframe to get an ascending figure\n",
    "\n",
    "figure_trucks_gdp = px.histogram(df_trucks_merged_sorted, x='trucks_per_gdp', y='region',                                                     # Plot figure\n",
    "                           animation_frame='year', animation_group='region',\n",
    "                           color='region', range_x=[0,0.0000000025],\n",
    "                           text_auto='0.2s',title=\"Electric truck sales per GDP per year\")\n",
    "\n",
    "figure_trucks_gdp.update_layout(yaxis={'categoryorder': 'total ascending'}, \n",
    "                                       xaxis_title = \"Sales per GDP per year\", \n",
    "                                       yaxis_title = 'Country', height = 500)\n",
    "figure_trucks_gdp.update_traces(textposition='outside')\n",
    "figure_trucks_gdp.show()"
   ]
  },
  {
   "cell_type": "code",
   "execution_count": null,
   "metadata": {},
   "outputs": [],
   "source": [
    "# Percentage of electric truck sales per GDP per year\n",
    "\n",
    "total_sales_trucks_per_year_gdp = df_trucks_gdp_merged.groupby('year')['trucks_per_gdp'].sum().reset_index()                                          # Calculate the total electric truck sales for each year\n",
    "total_sales_trucks_per_year_gdp.columns = ['year', 'total_trucks_per_gdp']                                                                        # Only look at year and total truck sales per year to make %\n",
    "df_trucks_total_per_year_gdp = pd.merge(df_trucks_gdp_merged, total_sales_trucks_per_year_gdp, on='year')                                             # Merge the total sales back into the original dataframe\n",
    "\n",
    "df_trucks_total_per_year_gdp['percentage_of_total_sales'] = (df_trucks_total_per_year_gdp['trucks_per_gdp'] / df_trucks_total_per_year_gdp['total_trucks_per_gdp']) * 100            # Calculate the percentage of each country's sales relative to the total for that year\n",
    "\n",
    "figure_trucks_gdp_perc = px.histogram(df_trucks_total_per_year_gdp, x='percentage_of_total_sales', y='region',                                              # Plot figure\n",
    "                           animation_frame='year', animation_group='region',\n",
    "                           color='region', range_x=[0,110], title=\"Percentage of electric car sales per GDP per year\", \n",
    "                           labels = {'region':'Countries'})\n",
    "\n",
    "figure_trucks_gdp_perc.update_layout(yaxis={'categoryorder': 'total ascending'}, height=500, xaxis_title = \"Percentage of sales per GDP per year\", yaxis_title = 'Country')\n",
    "figure_trucks_gdp_perc.update_traces(textposition='outside', texttemplate='%{x:.2f}%')\n",
    "figure_trucks_gdp_perc.show()"
   ]
  },
  {
   "cell_type": "code",
   "execution_count": null,
   "metadata": {},
   "outputs": [],
   "source": [
    "# Sum of electric car sales per GDP per year\n",
    "\n",
    "df_trucks_sum_values_by_year_gdp = df_trucks_gdp_merged.sort_values(by=['region', 'year'])                                                                                       # Sort values\n",
    "df_trucks_sum_values_by_year_gdp['cumulative_sales_gdp'] = df_trucks_sum_values_by_year_gdp.groupby('region')['trucks_per_gdp'].cumsum()                # Make new column with cumulative truck/gdp sales per year\n",
    "\n",
    "df_trucks_sum_sorted_gdp = df_trucks_sum_values_by_year_gdp.sort_values(by=['year', 'cumulative_sales_gdp'], ascending=[True, True])                           # Sort dataframe by values to make a ascending figure\n",
    "\n",
    "figure_trucks_gdp_sum = px.histogram(df_trucks_sum_sorted_gdp, x='cumulative_sales_gdp', y='region',                                              # Plot figure\n",
    "                           animation_frame='year', animation_group='region',\n",
    "                           color='region', range_x=[0,0.000025],\n",
    "                           text_auto='0.2s',title=\"Sum of electric truck sales per GDP per year\")\n",
    "\n",
    "figure_trucks_gdp_sum.update_layout(yaxis={'categoryorder': 'total ascending'}, \n",
    "                            height=500, xaxis_title = \"Sum sales per GDP per year\", \n",
    "                            yaxis_title = 'Country',)\n",
    "figure_trucks_gdp_sum.update_traces(textposition='outside')\n",
    "figure_trucks_gdp_sum.show()"
   ]
  },
  {
   "cell_type": "code",
   "execution_count": null,
   "metadata": {},
   "outputs": [],
   "source": []
  }
 ],
 "metadata": {
  "kernelspec": {
   "display_name": "TIL6022",
   "language": "python",
   "name": "python3"
  },
  "language_info": {
   "codemirror_mode": {
    "name": "ipython",
    "version": 3
   },
   "file_extension": ".py",
   "mimetype": "text/x-python",
   "name": "python",
   "nbconvert_exporter": "python",
   "pygments_lexer": "ipython3",
   "version": "3.12.4"
  }
 },
 "nbformat": 4,
 "nbformat_minor": 2
}
