{
 "cells": [
  {
   "cell_type": "markdown",
   "metadata": {},
   "source": [
    "# Project Group - 13\n",
    "\n",
    "Members & student numbers:\n",
    "* Hilde Blakenburg - 5236509\n",
    "* Tessa Dullemans - 4553624\n",
    "* Lisanne Hoefkens - 5402352\n",
    "* Lara Schonewille - 4878345 \n",
    "* Boín Spée - 5414776"
   ]
  },
  {
   "cell_type": "markdown",
   "metadata": {},
   "source": [
    "# Research Objective\n",
    "\n",
    "*Requires data modeling and quantitative research in Transport, Infrastructure & Logistics*\n",
    "\n",
    "**Research question:**\n",
    "<br> How has electric vehicle transport developed between 2010 and 2023?\n",
    "\n",
    "**Sub questions:**\n",
    "1. What is the development of electric persons transport and electric freight transport?\n",
    "2. Which country is leading in the electric persons vehicle transport and which country in the electric freight transport?\n",
    "3. How have the trends for electric persons vehicle and freight transport developed for the top four leading countries?\n",
    "4. What is the impact of electric persons vehicle and freight transport per inhabitant?\n",
    "5. How have the trends for electric persons vehicle and freight transport developed for the top four leading countries per inhabitant?\n",
    "6. How has the availability of charging infrastructure developed?"
   ]
  },
  {
   "cell_type": "markdown",
   "metadata": {},
   "source": []
  },
  {
   "cell_type": "markdown",
   "metadata": {},
   "source": [
    "# Contribution Statement\n",
    "\n",
    "*Be specific. Some of the tasks can be coding (expect everyone to do this), background research, conceptualisation, visualisation, data analysis, data modelling*"
   ]
  },
  {
   "cell_type": "markdown",
   "metadata": {},
   "source": [
    "**Author 1**:\n",
    "\n",
    "**Author 2**:\n",
    "\n",
    "**Author 3**:"
   ]
  },
  {
   "cell_type": "markdown",
   "metadata": {},
   "source": [
    "# Data Used\n",
    "\n",
    "**Data sets to be used**\n",
    "<br> IEA50 Global EV Data Explorer - https://www.iea.org/data-and-statistics/data-tools/global-ev-data-explorer\n",
    "<br> Our world in data: tracking global data on electric vehicles - https://ourworldindata.org/electric-car-sales"
   ]
  },
  {
   "cell_type": "markdown",
   "metadata": {},
   "source": []
  },
  {
   "cell_type": "markdown",
   "metadata": {},
   "source": [
    "# Data Pipeline"
   ]
  },
  {
   "cell_type": "markdown",
   "metadata": {},
   "source": []
  }
 ],
 "metadata": {
  "kernelspec": {
   "display_name": "Python 3",
   "language": "python",
   "name": "python3"
  },
  "language_info": {
   "codemirror_mode": {
    "name": "ipython",
    "version": 3
   },
   "file_extension": ".py",
   "mimetype": "text/x-python",
   "name": "python",
   "nbconvert_exporter": "python",
   "pygments_lexer": "ipython3",
   "version": "3.8.8"
  },
  "vscode": {
   "interpreter": {
    "hash": "31f2aee4e71d21fbe5cf8b01ff0e069b9275f58929596ceb00d14d90e3e16cd6"
   }
  }
 },
 "nbformat": 4,
 "nbformat_minor": 2
}
