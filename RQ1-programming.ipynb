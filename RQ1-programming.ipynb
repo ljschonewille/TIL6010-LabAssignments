{
 "cells": [
  {
   "cell_type": "code",
   "execution_count": null,
   "metadata": {},
   "outputs": [],
   "source": [
    "# Sub question 1\n",
    "\n",
    "*What is the development of fully electric sales and plug-in hybrid sales of electric cars and electric trucks?*"
   ]
  },
  {
   "cell_type": "code",
   "execution_count": null,
   "metadata": {},
   "outputs": [],
   "source": [
    "# Import data\n",
    "\n",
    "df_cars = pd.read_csv('IEA-EV-dataEV salesHistoricalCars.csv')                                                      # Read csv file\n",
    "\n",
    "df_cars_sales = df_cars[(df_cars['parameter'] == 'EV sales')]                                                       # Only look at EV sales values\n",
    "df_cars_ev = df_cars_sales.drop(df_cars_sales[df_cars_sales['powertrain'] == 'FCEV'].index)                         # Drop the Fuel cell values\n",
    "df_cars_group = df_cars_ev.groupby(['region', 'year'])['value'].sum()   \t                                        # Group the dataframe by region and year to sum the values of the fully electric and hybrid for each year in each region\n",
    "df_cars_values = df_cars_group.to_frame(name = 'value').reset_index()                                               # Make a dataframe of the groupby\n",
    "\n",
    "df_cars_data = df_cars_values.drop(df_cars_values[(df_cars_values['region'] == 'EU27') |                            # Drop EU27, Europe, Rest of the world and World from the region values\n",
    "                                                  (df_cars_values['region'] == 'Europe') | \n",
    "                                                  (df_cars_values['region'] == 'Rest of the world') |\n",
    "                                                  (df_cars_values['region'] == 'World')].index)\n"
   ]
  },
  {
   "cell_type": "code",
   "execution_count": null,
   "metadata": {},
   "outputs": [],
   "source": [
    "#Preparing the data for BEV and PHEVs\n",
    "\n",
    "df_cars_ev_BEV = df_cars_ev[df_cars_ev['powertrain'] == 'BEV']                              # Only use data if it data bout BEV\n",
    "df_grouped_cars_BEV = df_cars_ev_BEV.groupby('year')                                        # Group data by year\n",
    "df_grouped_total_value_cars_BEV = df_grouped_cars_BEV['value'].sum().reset_index()          # Use reset_index to restart index  to start from zero   \n",
    "\n",
    "df_cars_ev_PHEV = df_cars_ev[df_cars_ev['powertrain'] == 'PHEV']                            # Only use data if it is data about PHEV\n",
    "df_grouped_cars_PHEV = df_cars_ev_PHEV.groupby('year')                                      # Group data by year\n",
    "df_grouped_total_value_cars_PHEV = df_grouped_cars_PHEV['value'].sum().reset_index()        # Use reset_index to restart index to start from zero\n"
   ]
  },
  {
   "cell_type": "code",
   "execution_count": null,
   "metadata": {},
   "outputs": [],
   "source": [
    "#Preparing the data for trucks\n",
    "\n",
    "df_trucks_ev_BEV = df_trucks_ev[df_trucks_ev['powertrain'] == 'BEV']                            # Only use data if it is about BEV\n",
    "df_grouped_trucks_BEV = df_trucks_ev_BEV.groupby('year')                                        # Group data by year \n",
    "df_grouped_total_value_trucks_BEV = df_grouped_trucks_BEV['value'].sum().reset_index()          # Use reset_index to restart index to start from zero \n",
    "\n",
    "df_trucks_ev_PHEV = df_trucks_ev[df_trucks_ev['powertrain'] == 'PHEV']                          # Only use data if it is about BEV\n",
    "df_grouped_trucks_PHEV = df_trucks_ev_PHEV.groupby('year')                                      # Group data by year\n",
    "df_grouped_total_value_trucks_PHEV = df_grouped_trucks_PHEV['value'].sum().reset_index()        # Use reset_index to restart index to start from zero"
   ]
  },
  {
   "cell_type": "code",
   "execution_count": null,
   "metadata": {},
   "outputs": [],
   "source": []
  },
  {
   "cell_type": "code",
   "execution_count": null,
   "metadata": {},
   "outputs": [],
   "source": []
  },
  {
   "cell_type": "code",
   "execution_count": null,
   "metadata": {},
   "outputs": [],
   "source": []
  }
 ],
 "metadata": {
  "language_info": {
   "name": "python"
  }
 },
 "nbformat": 4,
 "nbformat_minor": 2
}
